{
  "nbformat": 4,
  "nbformat_minor": 0,
  "metadata": {
    "colab": {
      "provenance": [],
      "toc_visible": true
    },
    "kernelspec": {
      "name": "python3",
      "display_name": "Python 3"
    },
    "language_info": {
      "name": "python"
    }
  },
  "cells": [
    {
      "cell_type": "markdown",
      "source": [
        "# Building a Multi-Agent System with `smolagents`\n",
        "\n",
        "In this notebook, we will explore how to use the [`smolagents`](https://huggingface.co/docs/smolagents) library from Hugging Face to build a simple multi-agent system.\n",
        "\n",
        "Our goal is to create an agent system that collaborates to put together a lecture outline.  \n",
        "\n",
        "## What You’ll Learn  \n",
        "\n",
        "By the end of this exercise, you will:  \n",
        "- Understand the basics of multi-agent systems and how agents can coordinate to solve tasks.  \n",
        "- Learn how to define agents using `smolagents` and equip them with reasoning capabilities.  \n",
        "- Explore how agents can use tools like web search to gather relevant information.  \n",
        "- Implement a system where agents iteratively refine a lecture outline based on user prompts.  \n",
        "\n",
        "## Getting Started  \n",
        "\n",
        "Run the cells below to install dependencies and initialize the multi-agent system. Let's dive in!  \n"
      ],
      "metadata": {
        "id": "h3cNVNXKUDGT"
      }
    },
    {
      "cell_type": "code",
      "execution_count": null,
      "metadata": {
        "id": "dpOYtEuFUBSK"
      },
      "outputs": [],
      "source": [
        "!pip install smolagents[openai]==1.21.2 ddgs==9.5.4"
      ]
    },
    {
      "cell_type": "code",
      "source": [
        "from smolagents import CodeAgent, DuckDuckGoSearchTool, OpenAIServerModel, LogLevel"
      ],
      "metadata": {
        "id": "bSm0Nk4wUFei"
      },
      "execution_count": null,
      "outputs": []
    },
    {
      "cell_type": "markdown",
      "source": [
        "## Setting Up Your OpenAI API Key  \n",
        "\n",
        "This notebook requires an OpenAI API key to function. The key is used to authenticate requests when interacting with OpenAI's models.  \n",
        "\n",
        "### How to Get an OpenAI API Key  \n",
        "\n",
        "1. Go to the [OpenAI Platform](https://platform.openai.com/signup/) and sign up or log in.  \n",
        "2. Navigate to the **API Keys** section in your account settings: [OpenAI API Keys](https://platform.openai.com/api-keys).  \n",
        "3. Click **Create new secret key** and copy the generated key.  \n",
        "4. Keep this key secure. Do not share it publicly or hardcode it in the notebook.  \n",
        "\n",
        "Finally, execute the cell bellow and copy&paste the token into the provided field to configure the access of this notebook."
      ],
      "metadata": {
        "id": "6zjprmwWYaN-"
      }
    },
    {
      "cell_type": "code",
      "source": [
        "import os\n",
        "from getpass import getpass\n",
        "\n",
        "os.environ[\"OPENAI_API_KEY\"] = getpass(\"Enter your OPENAI API key: \")"
      ],
      "metadata": {
        "id": "mpMWahlqUYow"
      },
      "execution_count": null,
      "outputs": []
    },
    {
      "cell_type": "markdown",
      "source": [
        "## Defining the LLM used by the models\n",
        "In this notebook, our multi-agent system will rely on a Large Language Model (LLM) to generate and refine content.\n",
        "\n",
        "The `smolagents` library allows us to define agents that interact with an LLM to reason, plan, and use external tools.  \n",
        "\n",
        "We will use OpenAI's `gpt-4o` model. However, you can modify the setup to use other models.\n",
        "\n",
        "If you prefer an open-source alternative, you can modify the notebook to use a Hugging Face-hosted model or a locally deployed LLM like LLaMA, Mistral, or Falcon.\n"
      ],
      "metadata": {
        "id": "4wwWk5MLYq8R"
      }
    },
    {
      "cell_type": "code",
      "source": [
        "model = OpenAIServerModel(\"gpt-4o\", max_tokens=8096)"
      ],
      "metadata": {
        "id": "QtaOx3ouUsGV"
      },
      "execution_count": null,
      "outputs": []
    },
    {
      "cell_type": "code",
      "source": [],
      "metadata": {
        "id": "fpX-C-zbYqHT"
      },
      "execution_count": null,
      "outputs": []
    },
    {
      "cell_type": "markdown",
      "source": [
        "## Defining Expert Agents with `CodeAgent`  \n",
        "\n",
        "In this section, we will define two specialized expert agents using `smolagents.CodeAgent`. Each agent will have a distinct area of expertise and will contribute to building a structured lecture outline.  \n",
        "\n",
        "### What is `CodeAgent`?  \n",
        "\n",
        "`CodeAgent` is a type of agent in the `smolagents` library that can generate and execute Python code as part of its reasoning process. This allows agents to perform computations, analyze data, and use external tools in a structured manner.  \n",
        "\n",
        "### Defining the Experts  \n",
        "\n",
        "We will create two expert agents:  \n",
        "\n",
        "- **NLP Expert** – Specializes in natural language processing.  \n",
        "- **Computer Vision Expert** – Focuses on computer vision tasks.  \n",
        "\n",
        "Each agent will use an LLM to generate code-based responses when solving domain-specific tasks."
      ],
      "metadata": {
        "id": "wdw9FWs4ZmuZ"
      }
    },
    {
      "cell_type": "code",
      "source": [
        "nlp_lecturer_agent = CodeAgent(\n",
        "    name=\"nlp_lecturer\",\n",
        "    description=\"A lecturer in Natural Language Processing (NLP). This agent is a lecturer in NLP and can answer questions about NLP. When not sure about a topic, you can use the duckduckgo search tool to find the answer.\",\n",
        "    tools=[DuckDuckGoSearchTool()],\n",
        "    model=model,\n",
        "    max_steps=10\n",
        ")\n",
        "\n",
        "cv_lecturer_agent = CodeAgent(\n",
        "    name=\"cv_lecturer\",\n",
        "    description=\"A lecturer in computer vision. This agent is a lecturer in CV and can answer questions about Computer Vision. When not sure about a topic, you can use the duckduckgo search tool to find the answer.\",\n",
        "    tools=[DuckDuckGoSearchTool()],\n",
        "    model=model,\n",
        "    max_steps=10\n",
        ")\n"
      ],
      "metadata": {
        "id": "BlOej4kgUlwG"
      },
      "execution_count": null,
      "outputs": []
    },
    {
      "cell_type": "markdown",
      "source": [
        "## Defining the Course Director Agent  \n",
        "\n",
        "Now that we have our expert agents for NLP and Computer Vision, we need an agent to oversee the entire process. The **Course Director** agent will act as the central coordinator, ensuring that the experts collaborate effectively to construct a well-structured lecture outline.  \n",
        "\n",
        "### Role of the Course Director  \n",
        "\n",
        "The Course Director is responsible for:  \n",
        "- **Managing the workflow** – Deciding when and how expert agents contribute.  \n",
        "- **Gathering insights** – Requesting input from the NLP and Computer Vision experts.  \n",
        "- **Refining the lecture outline** – Iteratively improving structure and content based on expert feedback.  \n",
        "- **Ensuring coherence** – Making sure the final outline is clear, logical, and relevant.  \n",
        "\n",
        "### Implementing the Course Director Agent  \n",
        "\n",
        "We will define the Course Director as a `CodeAgent`, similar to the experts, but with a broader system prompt to guide decision-making and task delegation.\n"
      ],
      "metadata": {
        "id": "kj11R5anaB2T"
      }
    },
    {
      "cell_type": "code",
      "source": [
        "agent = CodeAgent(\n",
        "    name='Course_Director',\n",
        "    description=\"A course director who manages lecturers.\",\n",
        "    tools=[],\n",
        "    managed_agents=[cv_lecturer_agent, nlp_lecturer_agent],\n",
        "    model=model,\n",
        "    verbosity_level=LogLevel.DEBUG,\n",
        ")\n"
      ],
      "metadata": {
        "id": "1vuUjNIvaETm"
      },
      "execution_count": null,
      "outputs": []
    },
    {
      "cell_type": "markdown",
      "source": [
        "## Interacting with the Multi-Agent System  \n",
        "\n",
        "Now that we have defined our agents—the **Course Director**, **NLP Expert**, and **Computer Vision Expert**—it's time to interact with them. You, as the user, will provide an initial topic or high-level prompt, and the agents will collaborate to generate a structured lecture outline.  \n"
      ],
      "metadata": {
        "id": "z72c9719aOl_"
      }
    },
    {
      "cell_type": "code",
      "source": [
        "\n",
        "prompt = \"\"\"\n",
        "You are the course director of a university. You are responsible to coordinate the different topic experts and lecturers and consult them when ever neccessary to get the best possible answer. Always encurage the experts to do background research online prior answering the inquiry.\n",
        "\"Put me together an outline for a course on Generative AI\"\n",
        "\"\"\"\n",
        "answer = agent.run(prompt)"
      ],
      "metadata": {
        "id": "SXL7A_09UpbH"
      },
      "execution_count": null,
      "outputs": []
    },
    {
      "cell_type": "code",
      "source": [
        "print(answer)"
      ],
      "metadata": {
        "id": "xWY3qY8xUvel"
      },
      "execution_count": null,
      "outputs": []
    },
    {
      "cell_type": "markdown",
      "source": [
        "## Congratulations!\n",
        "\n",
        "You have successfully completed this exercise on building a multi-agent system using `smolagents`. Throughout this notebook, you:  \n",
        "\n",
        "- Learned how to define and configure expert agents using `CodeAgent`.  \n",
        "- Created an **NLP Expert** and a **Computer Vision Expert** to provide domain-specific insights.  \n",
        "- Implemented a **Course Director** agent to coordinate the workflow and manage agent interactions.  \n",
        "- Interacted with the multi-agent system to generate a structured lecture outline.  \n",
        "- Observed how agents collaborate, exchange information, and iteratively refine their output.  \n",
        "\n",
        "This exercise demonstrated how multi-agent systems can be used to automate complex reasoning and content creation tasks. You can extend this framework by adding new expert agents, integrating additional tools, or refining the agents' prompts to improve performance.  \n"
      ],
      "metadata": {
        "id": "aZB37tqkcozT"
      }
    },
    {
      "cell_type": "code",
      "source": [],
      "metadata": {
        "id": "s_0dkoqRbS9p"
      },
      "execution_count": null,
      "outputs": []
    }
  ]
}